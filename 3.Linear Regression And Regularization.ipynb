{
  "nbformat": 4,
  "nbformat_minor": 0,
  "metadata": {
    "colab": {
      "name": "3.Linear Regression And Regularization.ipynb",
      "provenance": [],
      "authorship_tag": "ABX9TyOuKjiYzV8Ckvt7obSS+hRl",
      "include_colab_link": true
    },
    "kernelspec": {
      "name": "python3",
      "display_name": "Python 3"
    }
  },
  "cells": [
    {
      "cell_type": "markdown",
      "metadata": {
        "id": "view-in-github",
        "colab_type": "text"
      },
      "source": [
        "<a href=\"https://colab.research.google.com/github/skyil7/SejongUniv_ML/blob/master/3.Linear%20Regression%20And%20Regularization.ipynb\" target=\"_parent\"><img src=\"https://colab.research.google.com/assets/colab-badge.svg\" alt=\"Open In Colab\"/></a>"
      ]
    },
    {
      "cell_type": "markdown",
      "metadata": {
        "id": "0dPdyElxXhfO"
      },
      "source": [
        "# 선형 회귀와 규제 실습\n",
        "- 와인 데이터셋 활용"
      ]
    },
    {
      "cell_type": "code",
      "metadata": {
        "id": "sH8f8BSRXd_S"
      },
      "source": [
        "import pandas as pd\n",
        "import numpy as np\n",
        "import warnings\n",
        "warnings.filterwarnings('ignore')"
      ],
      "execution_count": 9,
      "outputs": []
    },
    {
      "cell_type": "code",
      "metadata": {
        "id": "KLGHbdJcX66i",
        "outputId": "c0ed2611-ab03-44e0-d845-95ba83b3f768",
        "colab": {
          "base_uri": "https://localhost:8080/",
          "height": 213
        }
      },
      "source": [
        "data=pd.read_csv('http://archive.ics.uci.edu/ml/machine-learning-databases/'\n",
        "                     'wine/wine.data',header=None)\n",
        "data.head()\n",
        "data.columns = ['class label', 'alchohol', 'malic acid', 'ash', \n",
        "                    'alcalinity of ash', 'magnesium', 'total phenols', \n",
        "                    'flavanoids', 'nonflavanoid phenols', \n",
        "                    'proanthocyanins', 'color intensity', 'hue', \n",
        "                    'OD208', 'proline'] \n",
        "print('class label:', np.unique(data['class label']))\n",
        "data.head()"
      ],
      "execution_count": 2,
      "outputs": [
        {
          "output_type": "stream",
          "text": [
            "class label: [1 2 3]\n"
          ],
          "name": "stdout"
        },
        {
          "output_type": "execute_result",
          "data": {
            "text/html": [
              "<div>\n",
              "<style scoped>\n",
              "    .dataframe tbody tr th:only-of-type {\n",
              "        vertical-align: middle;\n",
              "    }\n",
              "\n",
              "    .dataframe tbody tr th {\n",
              "        vertical-align: top;\n",
              "    }\n",
              "\n",
              "    .dataframe thead th {\n",
              "        text-align: right;\n",
              "    }\n",
              "</style>\n",
              "<table border=\"1\" class=\"dataframe\">\n",
              "  <thead>\n",
              "    <tr style=\"text-align: right;\">\n",
              "      <th></th>\n",
              "      <th>class label</th>\n",
              "      <th>alchohol</th>\n",
              "      <th>malic acid</th>\n",
              "      <th>ash</th>\n",
              "      <th>alcalinity of ash</th>\n",
              "      <th>magnesium</th>\n",
              "      <th>total phenols</th>\n",
              "      <th>flavanoids</th>\n",
              "      <th>nonflavanoid phenols</th>\n",
              "      <th>proanthocyanins</th>\n",
              "      <th>color intensity</th>\n",
              "      <th>hue</th>\n",
              "      <th>OD208</th>\n",
              "      <th>proline</th>\n",
              "    </tr>\n",
              "  </thead>\n",
              "  <tbody>\n",
              "    <tr>\n",
              "      <th>0</th>\n",
              "      <td>1</td>\n",
              "      <td>14.23</td>\n",
              "      <td>1.71</td>\n",
              "      <td>2.43</td>\n",
              "      <td>15.6</td>\n",
              "      <td>127</td>\n",
              "      <td>2.80</td>\n",
              "      <td>3.06</td>\n",
              "      <td>0.28</td>\n",
              "      <td>2.29</td>\n",
              "      <td>5.64</td>\n",
              "      <td>1.04</td>\n",
              "      <td>3.92</td>\n",
              "      <td>1065</td>\n",
              "    </tr>\n",
              "    <tr>\n",
              "      <th>1</th>\n",
              "      <td>1</td>\n",
              "      <td>13.20</td>\n",
              "      <td>1.78</td>\n",
              "      <td>2.14</td>\n",
              "      <td>11.2</td>\n",
              "      <td>100</td>\n",
              "      <td>2.65</td>\n",
              "      <td>2.76</td>\n",
              "      <td>0.26</td>\n",
              "      <td>1.28</td>\n",
              "      <td>4.38</td>\n",
              "      <td>1.05</td>\n",
              "      <td>3.40</td>\n",
              "      <td>1050</td>\n",
              "    </tr>\n",
              "    <tr>\n",
              "      <th>2</th>\n",
              "      <td>1</td>\n",
              "      <td>13.16</td>\n",
              "      <td>2.36</td>\n",
              "      <td>2.67</td>\n",
              "      <td>18.6</td>\n",
              "      <td>101</td>\n",
              "      <td>2.80</td>\n",
              "      <td>3.24</td>\n",
              "      <td>0.30</td>\n",
              "      <td>2.81</td>\n",
              "      <td>5.68</td>\n",
              "      <td>1.03</td>\n",
              "      <td>3.17</td>\n",
              "      <td>1185</td>\n",
              "    </tr>\n",
              "    <tr>\n",
              "      <th>3</th>\n",
              "      <td>1</td>\n",
              "      <td>14.37</td>\n",
              "      <td>1.95</td>\n",
              "      <td>2.50</td>\n",
              "      <td>16.8</td>\n",
              "      <td>113</td>\n",
              "      <td>3.85</td>\n",
              "      <td>3.49</td>\n",
              "      <td>0.24</td>\n",
              "      <td>2.18</td>\n",
              "      <td>7.80</td>\n",
              "      <td>0.86</td>\n",
              "      <td>3.45</td>\n",
              "      <td>1480</td>\n",
              "    </tr>\n",
              "    <tr>\n",
              "      <th>4</th>\n",
              "      <td>1</td>\n",
              "      <td>13.24</td>\n",
              "      <td>2.59</td>\n",
              "      <td>2.87</td>\n",
              "      <td>21.0</td>\n",
              "      <td>118</td>\n",
              "      <td>2.80</td>\n",
              "      <td>2.69</td>\n",
              "      <td>0.39</td>\n",
              "      <td>1.82</td>\n",
              "      <td>4.32</td>\n",
              "      <td>1.04</td>\n",
              "      <td>2.93</td>\n",
              "      <td>735</td>\n",
              "    </tr>\n",
              "  </tbody>\n",
              "</table>\n",
              "</div>"
            ],
            "text/plain": [
              "   class label  alchohol  malic acid  ...   hue  OD208  proline\n",
              "0            1     14.23        1.71  ...  1.04   3.92     1065\n",
              "1            1     13.20        1.78  ...  1.05   3.40     1050\n",
              "2            1     13.16        2.36  ...  1.03   3.17     1185\n",
              "3            1     14.37        1.95  ...  0.86   3.45     1480\n",
              "4            1     13.24        2.59  ...  1.04   2.93      735\n",
              "\n",
              "[5 rows x 14 columns]"
            ]
          },
          "metadata": {
            "tags": []
          },
          "execution_count": 2
        }
      ]
    },
    {
      "cell_type": "markdown",
      "metadata": {
        "id": "DXS5U4PXYJe3"
      },
      "source": [
        "## data pre_processing"
      ]
    },
    {
      "cell_type": "code",
      "metadata": {
        "id": "zfjANvUiYFk4"
      },
      "source": [
        "from sklearn.model_selection import train_test_split\n",
        "X, y = data.iloc[:,1:].values, data.iloc[:,0].values\n",
        "X_train, X_test, y_train,y_test = train_test_split(X, y, test_size=0.3, random_state=1, stratify=y)"
      ],
      "execution_count": 3,
      "outputs": []
    },
    {
      "cell_type": "code",
      "metadata": {
        "id": "4B8jfj7wYK4D"
      },
      "source": [
        "from sklearn.preprocessing import StandardScaler\n",
        "scaler = StandardScaler()\n",
        "X_train_std = scaler.fit_transform(X_train)\n",
        "X_test_std = scaler.transform(X_test)"
      ],
      "execution_count": 5,
      "outputs": []
    },
    {
      "cell_type": "markdown",
      "metadata": {
        "id": "E0Gk8aFcYVbI"
      },
      "source": [
        "# Regularization에 따른 정확도 확인하기\n",
        "- C가 작을수록 규제가 심해짐"
      ]
    },
    {
      "cell_type": "code",
      "metadata": {
        "id": "2iXotEruYTOx"
      },
      "source": [
        "from sklearn.linear_model import LogisticRegression\n",
        "lr2_10 = LogisticRegression(penalty='l2', C=10.0, solver='saga')  # L2 with C(=1/λ)=10\n",
        "lr2_1 = LogisticRegression(penalty='l2', C=1.0, solver='saga')    # L2 with C(=1/λ)=1\n",
        "lr2_0_1 = LogisticRegression(penalty='l2', C=0.1, solver='saga')  # L2 with C(=1/λ)=0.1\n",
        "\n",
        "lr1_10 = LogisticRegression(penalty='l1', C=10.0, solver='saga')  # L1 with C(=1/λ)=10\n",
        "lr1_1 = LogisticRegression(penalty='l1', C=1.0, solver='saga')    # L1 with C(=1/λ)=1\n",
        "lr1_0_1 = LogisticRegression(penalty='l1', C=0.1, solver='saga')  # L1 with C(=1/λ)=0.1"
      ],
      "execution_count": 11,
      "outputs": []
    },
    {
      "cell_type": "code",
      "metadata": {
        "id": "wUeBbrvDYaWK",
        "outputId": "66c37f19-bdbb-4056-d61f-65443be44c64",
        "colab": {
          "base_uri": "https://localhost:8080/",
          "height": 228
        }
      },
      "source": [
        "lr2_10.fit(X_train_std, y_train)\n",
        "print('Training accuracy with L2 and λ=0.1:', lr2_10.score(X_train_std, y_train))\n",
        "print('Test accuracy with L2 and λ=0.1:', lr2_10.score(X_test_std, y_test))\n",
        "\n",
        "lr2_1.fit(X_train_std, y_train)  # warning..\n",
        "print('Training accuracy with L2 and λ=1:', lr2_1.score(X_train_std, y_train))\n",
        "print('Test accuracy with L2 and λ=1:', lr2_1.score(X_test_std, y_test))\n",
        "\n",
        "lr2_0_1.fit(X_train_std, y_train)\n",
        "print('Training accuracy with L2 and λ=10:', lr2_0_1.score(X_train_std, y_train))\n",
        "print('Test accuracy with L2 and λ=10:', lr2_0_1.score(X_test_std, y_test))\n",
        "\n",
        "lr1_10.fit(X_train_std, y_train)\n",
        "print('Training accuracy with L1 and λ=0.1:', lr1_10.score(X_train_std, y_train))\n",
        "print('Test accuracy with L1 and λ=0.1:', lr1_10.score(X_test_std, y_test))\n",
        "\n",
        "lr1_1.fit(X_train_std, y_train)\n",
        "print('Training accuracy with L1 and λ=1:', lr1_1.score(X_train_std, y_train))\n",
        "print('Test accuracy with L1 and λ=1:', lr1_1.score(X_test_std, y_test))\n",
        "\n",
        "lr1_0_1.fit(X_train_std, y_train)\n",
        "print('Training accuracy with L1 and λ=10:', lr1_0_1.score(X_train_std, y_train))\n",
        "print('Test accuracy with L1 and λ=10:', lr1_0_1.score(X_test_std, y_test))"
      ],
      "execution_count": 12,
      "outputs": [
        {
          "output_type": "stream",
          "text": [
            "Training accuracy with L2 and λ=0.1: 1.0\n",
            "Test accuracy with L2 and λ=0.1: 0.9814814814814815\n",
            "Training accuracy with L2 and λ=1: 1.0\n",
            "Test accuracy with L2 and λ=1: 0.9814814814814815\n",
            "Training accuracy with L2 and λ=10: 1.0\n",
            "Test accuracy with L2 and λ=10: 1.0\n",
            "Training accuracy with L1 and λ=0.1: 1.0\n",
            "Test accuracy with L1 and λ=0.1: 0.9814814814814815\n",
            "Training accuracy with L1 and λ=1: 1.0\n",
            "Test accuracy with L1 and λ=1: 0.9814814814814815\n",
            "Training accuracy with L1 and λ=10: 0.967741935483871\n",
            "Test accuracy with L1 and λ=10: 0.9444444444444444\n"
          ],
          "name": "stdout"
        }
      ]
    },
    {
      "cell_type": "markdown",
      "metadata": {
        "id": "GU6VlDgAY8mm"
      },
      "source": [
        "# 규제 강도에 따른 매게 변수의 값 관찰\n",
        "- 강도가 강해질 수록 값이 작아짐\n",
        "- L1의 경우, 아예 0이 되기도"
      ]
    },
    {
      "cell_type": "code",
      "metadata": {
        "id": "EfsPHRUBYhpm",
        "outputId": "878e2812-9905-43e5-f393-0eb4dc751690",
        "colab": {
          "base_uri": "https://localhost:8080/",
          "height": 545
        }
      },
      "source": [
        "print(lr2_10.intercept_)\n",
        "print(lr2_1.intercept_)\n",
        "print(lr2_0_1.intercept_)\n",
        "\n",
        "print(lr2_10.coef_)\n",
        "print(lr2_1.coef_)\n",
        "print(lr2_0_1.coef_)"
      ],
      "execution_count": 13,
      "outputs": [
        {
          "output_type": "stream",
          "text": [
            "[ 0.30609095  0.62846365 -0.9345546 ]\n",
            "[ 0.28296402  0.60335303 -0.88631705]\n",
            "[ 0.06848176  0.45689385 -0.52537561]\n",
            "[[ 1.19141952  0.20200337  0.38722712 -1.54071047  0.0988042   0.43988475\n",
            "   0.83682327 -0.29862952  0.03283865  0.16034137  0.11782758  0.9774179\n",
            "   1.38272307]\n",
            " [-1.5290524  -0.46602547 -1.26180582  1.23909252 -0.31359954 -0.56665493\n",
            "   0.86153215  0.41958446  0.41827685 -1.33647383  1.11068416  0.06491721\n",
            "  -1.76262724]\n",
            " [ 0.33763288  0.2640221   0.87457871  0.30161795  0.21479534  0.12677019\n",
            "  -1.69835543 -0.12095494 -0.4511155   1.17613246 -1.22851173 -1.04233511\n",
            "   0.37990417]]\n",
            "[[ 0.75487462  0.06157388  0.23345996 -0.89239796  0.02637696  0.29393399\n",
            "   0.56118395 -0.20717659  0.13429359  0.12765445  0.10202973  0.61777589\n",
            "   0.9095086 ]\n",
            " [-0.98660029 -0.32324277 -0.65162521  0.66769215 -0.22947253 -0.2071032\n",
            "   0.43811294  0.19842724  0.24399188 -0.78017088  0.6372139   0.08567318\n",
            "  -1.03444624]\n",
            " [ 0.23172567  0.26166889  0.41816525  0.22470581  0.20309557 -0.08683079\n",
            "  -0.99929689  0.00874935 -0.37828547  0.65251643 -0.73924362 -0.70344907\n",
            "   0.12493764]]\n",
            "[[ 0.41027457 -0.03151607  0.13675221 -0.41135415  0.05384245  0.22359013\n",
            "   0.3166855  -0.15967871  0.11371041  0.07036242  0.11108225  0.30980635\n",
            "   0.51689538]\n",
            " [-0.5426457  -0.20154474 -0.25666744  0.28070988 -0.14838209 -0.04059469\n",
            "   0.1245455   0.08291113  0.10086877 -0.4457296   0.27319198  0.09646352\n",
            "  -0.5187111 ]\n",
            " [ 0.13237112  0.2330608   0.11991523  0.13064427  0.09453964 -0.18299544\n",
            "  -0.44123099  0.07676758 -0.21457918  0.37536718 -0.38427424 -0.40626987\n",
            "   0.00181572]]\n"
          ],
          "name": "stdout"
        }
      ]
    },
    {
      "cell_type": "code",
      "metadata": {
        "id": "juaahyCWY4-6",
        "outputId": "e348724f-e28c-47ba-8a92-1df33fc24b5c",
        "colab": {
          "base_uri": "https://localhost:8080/",
          "height": 545
        }
      },
      "source": [
        "print(lr1_10.intercept_)\n",
        "print(lr1_1.intercept_)\n",
        "print(lr1_0_1.intercept_)\n",
        "\n",
        "print(lr1_10.coef_)\n",
        "print(lr1_1.coef_)\n",
        "print(lr1_0_1.coef_)"
      ],
      "execution_count": 14,
      "outputs": [
        {
          "output_type": "stream",
          "text": [
            "[ 0.35744854  0.62320337 -0.98065191]\n",
            "[ 0.28834214  0.5417377  -0.83007984]\n",
            "[ 0.05083546  0.30693262 -0.35776808]\n",
            "[[ 1.23635776  0.          0.16295148 -1.66257705  0.          0.33526561\n",
            "   0.65581063  0.          0.          0.          0.          0.99957727\n",
            "   1.41617827]\n",
            " [-1.7931647  -0.42846319 -1.45874173  1.07414192 -0.33827852 -0.46391295\n",
            "   0.75476091  0.46489025  0.16650559 -1.47477235  1.07012423  0.\n",
            "  -1.97888027]\n",
            " [ 0.0298203   0.15878502  0.76880362  0.06093802  0.11193334  0.\n",
            "  -1.93645213  0.         -0.45372644  1.16782064 -1.25167688 -0.99550382\n",
            "   0.03648109]]\n",
            "[[ 0.03121453  0.          0.         -1.18818759  0.          0.\n",
            "   0.01830739  0.          0.          0.          0.          0.63675786\n",
            "   0.95672852]\n",
            " [-1.57822443 -0.14372964 -0.76760063  0.03319793 -0.07373118  0.\n",
            "   0.          0.1253794   0.         -1.02010275  0.22610998  0.\n",
            "  -1.22637675]\n",
            " [ 0.          0.          0.          0.          0.          0.\n",
            "  -2.06849173  0.         -0.0531738   0.23800064 -0.8218587  -0.65642268\n",
            "   0.        ]]\n",
            "[[ 0.          0.          0.         -0.04186525  0.          0.\n",
            "   0.23308011  0.          0.          0.          0.          0.\n",
            "   0.84037971]\n",
            " [-0.8348194   0.          0.          0.          0.          0.\n",
            "   0.          0.          0.         -0.42339347  0.          0.\n",
            "  -0.2065286 ]\n",
            " [ 0.          0.          0.          0.          0.          0.\n",
            "  -0.60100195  0.          0.          0.10486108 -0.35221637 -0.5215038\n",
            "   0.        ]]\n"
          ],
          "name": "stdout"
        }
      ]
    }
  ]
}