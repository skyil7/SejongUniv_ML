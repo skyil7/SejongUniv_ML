{
  "nbformat": 4,
  "nbformat_minor": 0,
  "metadata": {
    "colab": {
      "name": "2.5.KNN regression.ipynb",
      "provenance": [],
      "authorship_tag": "ABX9TyNfgoXUvL3Mp2gb+tiRpVy7",
      "include_colab_link": true
    },
    "kernelspec": {
      "name": "python3",
      "display_name": "Python 3"
    }
  },
  "cells": [
    {
      "cell_type": "markdown",
      "metadata": {
        "id": "view-in-github",
        "colab_type": "text"
      },
      "source": [
        "<a href=\"https://colab.research.google.com/github/skyil7/SejongUniv_ML/blob/master/2.5.KNN%20regression.ipynb\" target=\"_parent\"><img src=\"https://colab.research.google.com/assets/colab-badge.svg\" alt=\"Open In Colab\"/></a>"
      ]
    },
    {
      "cell_type": "code",
      "metadata": {
        "id": "e93OAbtsva3n",
        "colab_type": "code",
        "colab": {}
      },
      "source": [
        "import warnings\n",
        "warnings.filterwarnings(action='ignore')"
      ],
      "execution_count": 1,
      "outputs": []
    },
    {
      "cell_type": "markdown",
      "metadata": {
        "id": "Ws9MS8eLvc5t",
        "colab_type": "text"
      },
      "source": [
        "# KNN for Regression"
      ]
    },
    {
      "cell_type": "code",
      "metadata": {
        "id": "9JnLmeQwvcb3",
        "colab_type": "code",
        "colab": {
          "base_uri": "https://localhost:8080/",
          "height": 35
        },
        "outputId": "fee9e8f7-788d-4b43-a664-c6b4fd29bf50"
      },
      "source": [
        "from sklearn.neighbors import KNeighborsRegressor\n",
        "regressor = KNeighborsRegressor(n_neighbors=3, weights='distance') # distance를 사용하면 가중평균을 구하고, 기본값인 uniform을 사용하면 평균을 구한다.\n",
        "\n",
        "training_points = [[0.5, 0.2, 0.1],\n",
        "                   [0.9, 0.7, 0.3],\n",
        "                   [0.4, 0.5, 0.7]]\n",
        "\n",
        "training_labels = [5.0, 6.8, 9.0]\n",
        "regressor.fit(training_points, training_labels)\n",
        "\n",
        "unknown_points = [[0.2, 0.1, 0.7],\n",
        "                  [0.4, 0.7, 0.6],\n",
        "                  [0.5, 0.8, 0.1]]\n",
        "\n",
        "pred = regressor.predict(unknown_points)\n",
        "pred"
      ],
      "execution_count": 2,
      "outputs": [
        {
          "output_type": "execute_result",
          "data": {
            "text/plain": [
              "array([7.28143288, 7.76451922, 6.8457845 ])"
            ]
          },
          "metadata": {
            "tags": []
          },
          "execution_count": 2
        }
      ]
    }
  ]
}