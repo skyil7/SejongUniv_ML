{
  "nbformat": 4,
  "nbformat_minor": 0,
  "metadata": {
    "colab": {
      "name": "4.Discriminant Analysis.ipynb",
      "provenance": [],
      "authorship_tag": "ABX9TyO9dPBzH6Bk6f14vie88oot",
      "include_colab_link": true
    },
    "kernelspec": {
      "name": "python3",
      "display_name": "Python 3"
    }
  },
  "cells": [
    {
      "cell_type": "markdown",
      "metadata": {
        "id": "view-in-github",
        "colab_type": "text"
      },
      "source": [
        "<a href=\"https://colab.research.google.com/github/skyil7/SejongUniv_ML/blob/master/4.Discriminant%20Analysis.ipynb\" target=\"_parent\"><img src=\"https://colab.research.google.com/assets/colab-badge.svg\" alt=\"Open In Colab\"/></a>"
      ]
    },
    {
      "cell_type": "markdown",
      "metadata": {
        "id": "ilIdzh39tKvG"
      },
      "source": [
        "# LDA와 QDA"
      ]
    },
    {
      "cell_type": "code",
      "metadata": {
        "id": "N9oH7Pems3XN"
      },
      "source": [
        "import seaborn as sns\n",
        "iris=sns.load_dataset('iris')\n",
        "X=iris.drop('species',axis=1)\n",
        "y_=iris['species']\n",
        "\n",
        "from sklearn.preprocessing import LabelEncoder \n",
        "classle=LabelEncoder() \n",
        "y=classle.fit_transform(iris['species'].values) \n",
        "\n",
        "from sklearn.model_selection import train_test_split \n",
        "X_train,X_test,y_train,y_test=train_test_split(X,y, test_size=0.4, random_state=123, stratify=y)"
      ],
      "execution_count": 1,
      "outputs": []
    },
    {
      "cell_type": "code",
      "metadata": {
        "id": "hhaIWNYktVgt",
        "outputId": "ad3ae649-45bd-4128-dbfc-e8053e2b1a5c",
        "colab": {
          "base_uri": "https://localhost:8080/",
          "height": 195
        }
      },
      "source": [
        "X.head()"
      ],
      "execution_count": 2,
      "outputs": [
        {
          "output_type": "execute_result",
          "data": {
            "text/html": [
              "<div>\n",
              "<style scoped>\n",
              "    .dataframe tbody tr th:only-of-type {\n",
              "        vertical-align: middle;\n",
              "    }\n",
              "\n",
              "    .dataframe tbody tr th {\n",
              "        vertical-align: top;\n",
              "    }\n",
              "\n",
              "    .dataframe thead th {\n",
              "        text-align: right;\n",
              "    }\n",
              "</style>\n",
              "<table border=\"1\" class=\"dataframe\">\n",
              "  <thead>\n",
              "    <tr style=\"text-align: right;\">\n",
              "      <th></th>\n",
              "      <th>sepal_length</th>\n",
              "      <th>sepal_width</th>\n",
              "      <th>petal_length</th>\n",
              "      <th>petal_width</th>\n",
              "    </tr>\n",
              "  </thead>\n",
              "  <tbody>\n",
              "    <tr>\n",
              "      <th>0</th>\n",
              "      <td>5.1</td>\n",
              "      <td>3.5</td>\n",
              "      <td>1.4</td>\n",
              "      <td>0.2</td>\n",
              "    </tr>\n",
              "    <tr>\n",
              "      <th>1</th>\n",
              "      <td>4.9</td>\n",
              "      <td>3.0</td>\n",
              "      <td>1.4</td>\n",
              "      <td>0.2</td>\n",
              "    </tr>\n",
              "    <tr>\n",
              "      <th>2</th>\n",
              "      <td>4.7</td>\n",
              "      <td>3.2</td>\n",
              "      <td>1.3</td>\n",
              "      <td>0.2</td>\n",
              "    </tr>\n",
              "    <tr>\n",
              "      <th>3</th>\n",
              "      <td>4.6</td>\n",
              "      <td>3.1</td>\n",
              "      <td>1.5</td>\n",
              "      <td>0.2</td>\n",
              "    </tr>\n",
              "    <tr>\n",
              "      <th>4</th>\n",
              "      <td>5.0</td>\n",
              "      <td>3.6</td>\n",
              "      <td>1.4</td>\n",
              "      <td>0.2</td>\n",
              "    </tr>\n",
              "  </tbody>\n",
              "</table>\n",
              "</div>"
            ],
            "text/plain": [
              "   sepal_length  sepal_width  petal_length  petal_width\n",
              "0           5.1          3.5           1.4          0.2\n",
              "1           4.9          3.0           1.4          0.2\n",
              "2           4.7          3.2           1.3          0.2\n",
              "3           4.6          3.1           1.5          0.2\n",
              "4           5.0          3.6           1.4          0.2"
            ]
          },
          "metadata": {
            "tags": []
          },
          "execution_count": 2
        }
      ]
    },
    {
      "cell_type": "code",
      "metadata": {
        "id": "Z5vCQ_N5tYF7",
        "outputId": "58426136-7376-4337-81ea-535b9f213a3e",
        "colab": {
          "base_uri": "https://localhost:8080/",
          "height": 122
        }
      },
      "source": [
        "y_.head()"
      ],
      "execution_count": 4,
      "outputs": [
        {
          "output_type": "execute_result",
          "data": {
            "text/plain": [
              "0    setosa\n",
              "1    setosa\n",
              "2    setosa\n",
              "3    setosa\n",
              "4    setosa\n",
              "Name: species, dtype: object"
            ]
          },
          "metadata": {
            "tags": []
          },
          "execution_count": 4
        }
      ]
    },
    {
      "cell_type": "markdown",
      "metadata": {
        "id": "26O2fr0xtem_"
      },
      "source": [
        "#LDA"
      ]
    },
    {
      "cell_type": "code",
      "metadata": {
        "id": "xBsrpelmtZXS",
        "outputId": "ac41fb5a-2c53-42f9-ff8d-d6c436222f1c",
        "colab": {
          "base_uri": "https://localhost:8080/",
          "height": 52
        }
      },
      "source": [
        "from sklearn.discriminant_analysis import LinearDiscriminantAnalysis\n",
        "cld=LinearDiscriminantAnalysis(store_covariance=True) # n_components: 사영할 축의 차원, store_covariance: 모수 저장여부\n",
        "#cld=LinearDiscriminantAnalysis(n_components=2, store_covariance=True)\n",
        "\n",
        "cld.fit(X_train, y_train)\n",
        "y_train_pred=cld.predict(X_train)\n",
        "y_test_pred=cld.predict(X_test)\n",
        "\n",
        "\n",
        "from sklearn.metrics import accuracy_score\n",
        "print(accuracy_score(y_train, y_train_pred)) \n",
        "print(accuracy_score(y_test, y_test_pred)) "
      ],
      "execution_count": 5,
      "outputs": [
        {
          "output_type": "stream",
          "text": [
            "0.9777777777777777\n",
            "0.9833333333333333\n"
          ],
          "name": "stdout"
        }
      ]
    },
    {
      "cell_type": "code",
      "metadata": {
        "id": "5EADuuhst9NQ",
        "outputId": "7f2fdfd4-e439-4f42-d2e1-ec31e5836a0d",
        "colab": {
          "base_uri": "https://localhost:8080/",
          "height": 70
        }
      },
      "source": [
        "from sklearn.metrics import confusion_matrix\n",
        "print(confusion_matrix(y_test, y_test_pred))  #setosa, versicolor, virginica"
      ],
      "execution_count": 6,
      "outputs": [
        {
          "output_type": "stream",
          "text": [
            "[[20  0  0]\n",
            " [ 0 19  1]\n",
            " [ 0  0 20]]\n"
          ],
          "name": "stdout"
        }
      ]
    },
    {
      "cell_type": "code",
      "metadata": {
        "id": "c1dq-3DhuAZ8",
        "outputId": "3add259a-0e88-4b62-861d-5e873972858e",
        "colab": {
          "base_uri": "https://localhost:8080/",
          "height": 228
        }
      },
      "source": [
        "print(cld.means_)\n",
        "print(cld.xbar_)\n",
        "print(cld.covariance_)\n",
        "print(cld.intercept_)\n",
        "print(cld.coef_)"
      ],
      "execution_count": 7,
      "outputs": [
        {
          "output_type": "stream",
          "text": [
            "[[4.99333333 3.39       1.51       0.25666667]\n",
            " [5.84333333 2.72       4.19666667 1.28333333]\n",
            " [6.50666667 2.96       5.48       2.03333333]]\n",
            "[5.78111111 3.02333333 3.72888889 1.19111111]\n",
            "[[0.23678889 0.08888889 0.14033704 0.03473704]\n",
            " [0.08888889 0.11007778 0.05256667 0.0303    ]\n",
            " [0.14033704 0.05256667 0.15716296 0.03279259]\n",
            " [0.03473704 0.0303     0.03279259 0.03735556]]\n",
            "[-12.66885448  -3.1041685  -41.67596068]\n",
            "[[  6.32998612  13.9186009  -18.76291659 -24.88599546]\n",
            " [ -1.42414426  -4.81444274   5.10515599   3.13434008]\n",
            " [ -4.90584186  -9.10415815  13.65776061  21.75165538]]\n"
          ],
          "name": "stdout"
        }
      ]
    },
    {
      "cell_type": "code",
      "metadata": {
        "id": "1hGecobDuCWP",
        "outputId": "072aa8dd-ff1c-4ac1-c48c-5d69e63f9dd6",
        "colab": {
          "base_uri": "https://localhost:8080/",
          "height": 297
        }
      },
      "source": [
        "from sklearn.discriminant_analysis import LinearDiscriminantAnalysis\n",
        "cld=LinearDiscriminantAnalysis()\n",
        "# fit_transform으로 차원축소된 실제 데이터를 get\n",
        "X_lda = cld.fit_transform(X_train, y_train)\n",
        "\n",
        "from matplotlib import pyplot as plt\n",
        "plt.xlabel('LD1')\n",
        "plt.ylabel('LD2')\n",
        "plt.scatter(\n",
        "    X_lda[:,0],\n",
        "    X_lda[:,1],\n",
        "    c=y_train,\n",
        "    cmap='rainbow',\n",
        "    alpha=0.7,\n",
        "    edgecolors='b'\n",
        ")"
      ],
      "execution_count": 8,
      "outputs": [
        {
          "output_type": "execute_result",
          "data": {
            "text/plain": [
              "<matplotlib.collections.PathCollection at 0x7feefac94f98>"
            ]
          },
          "metadata": {
            "tags": []
          },
          "execution_count": 8
        },
        {
          "output_type": "display_data",
          "data": {
            "image/png": "[encoded data removed]",
            "text/plain": [
              "<Figure size 432x288 with 1 Axes>"
            ]
          },
          "metadata": {
            "tags": [],
            "needs_background": "light"
          }
        }
      ]
    },
    {
      "cell_type": "code",
      "metadata": {
        "id": "Xr3cLpFbuVeS"
      },
      "source": [
        "from sklearn.discriminant_analysis import QuadraticDiscriminantAnalysis\n",
        "\n",
        "cqd=QuadraticDiscriminantAnalysis(store_covariance=True)\n",
        "\n",
        "cqd.fit(X_train, y_train)\n",
        "y_train_pred=cqd.predict(X_train)\n",
        "y_test_pred=cqd.predict(X_test)"
      ],
      "execution_count": 15,
      "outputs": []
    },
    {
      "cell_type": "code",
      "metadata": {
        "id": "l-_NynlduXLE",
        "outputId": "40f983cc-436e-4786-fc1c-a2fb280dadc3",
        "colab": {
          "base_uri": "https://localhost:8080/",
          "height": 52
        }
      },
      "source": [
        "from sklearn.metrics import accuracy_score\n",
        "print(accuracy_score(y_train, y_train_pred)) # train data에 대한 accuracy\n",
        "print(accuracy_score(y_test, y_test_pred)) # test data에 대한 accuracy"
      ],
      "execution_count": 10,
      "outputs": [
        {
          "output_type": "stream",
          "text": [
            "0.9777777777777777\n",
            "0.9833333333333333\n"
          ],
          "name": "stdout"
        }
      ]
    },
    {
      "cell_type": "code",
      "metadata": {
        "id": "M2XBDWIhuZPf",
        "outputId": "532bd52a-1ed8-42e3-ce92-382f604af293",
        "colab": {
          "base_uri": "https://localhost:8080/",
          "height": 70
        }
      },
      "source": [
        "from sklearn.metrics import confusion_matrix\n",
        "print(confusion_matrix(y_test, y_test_pred))"
      ],
      "execution_count": 11,
      "outputs": [
        {
          "output_type": "stream",
          "text": [
            "[[20  0  0]\n",
            " [ 0 19  1]\n",
            " [ 0  0 20]]\n"
          ],
          "name": "stdout"
        }
      ]
    },
    {
      "cell_type": "code",
      "metadata": {
        "id": "Ua6BxqwmubSP",
        "outputId": "fa08570a-966e-4498-f615-5fda197daa61",
        "colab": {
          "base_uri": "https://localhost:8080/",
          "height": 246
        }
      },
      "source": [
        "print(cqd.means_)\n",
        "print(cqd.covariance_)"
      ],
      "execution_count": 12,
      "outputs": [
        {
          "output_type": "stream",
          "text": [
            "[[4.99333333 3.39       1.51       0.25666667]\n",
            " [5.84333333 2.72       4.19666667 1.28333333]\n",
            " [6.50666667 2.96       5.48       2.03333333]]\n",
            "[array([[0.12547126, 0.10648276, 0.02627586, 0.01556322],\n",
            "       [0.10648276, 0.14782759, 0.03044828, 0.01541379],\n",
            "       [0.02627586, 0.03044828, 0.03196552, 0.007     ],\n",
            "       [0.01556322, 0.01541379, 0.007     , 0.01012644]]), array([[0.22943678, 0.07117241, 0.14704598, 0.03488506],\n",
            "       [0.07117241, 0.092     , 0.07593103, 0.03482759],\n",
            "       [0.14704598, 0.07593103, 0.19757471, 0.05614943],\n",
            "       [0.03488506, 0.03482759, 0.05614943, 0.02902299]]), array([[0.37995402, 0.0982069 , 0.2622069 , 0.05735632],\n",
            "       [0.0982069 , 0.1017931 , 0.05675862, 0.0437931 ],\n",
            "       [0.2622069 , 0.05675862, 0.2582069 , 0.03862069],\n",
            "       [0.05735632, 0.0437931 , 0.03862069, 0.07678161]])]\n"
          ],
          "name": "stdout"
        }
      ]
    }
  ]
}